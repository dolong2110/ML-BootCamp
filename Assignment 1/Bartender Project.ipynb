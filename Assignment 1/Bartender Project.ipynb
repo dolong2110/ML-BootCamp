{
 "cells": [
  {
   "cell_type": "code",
   "execution_count": 1,
   "metadata": {},
   "outputs": [],
   "source": [
    "questions = {\n",
    "\"strong\": \"Do ye like yer drinks strong?\",\n",
    "\"salty\": \"Do ye like it with a salty tang?\",\n",
    "\"bitter\": \"Are ye a lubber who likes it bitter?\",\n",
    "\"sweet\": \"Would ye like a bit of sweetness with yer poison?\",\n",
    "\"fruity\": \"Are ye one for a fruity finish?\",\n",
    "}"
   ]
  },
  {
   "cell_type": "code",
   "execution_count": 2,
   "metadata": {},
   "outputs": [],
   "source": [
    "ingredients = {\n",
    "\"strong\": [\"glug of rum\", \"slug of whisky\", \"splash of gin\"],\n",
    "\"salty\": [\"olive on a stick\", \"salt-dusted rim\", \"rasher of bacon\"],\n",
    "\"bitter\": [\"shake of bitters\", \"splash of tonic\", \"twist of lemon peel\"],\n",
    "\"sweet\": [\"sugar cube\", \"spoonful of honey\", \"spash of cola\"],\n",
    "\"fruity\": [\"slice of orange\", \"dash of cassis\", \"cherry on top\"],\n",
    "}"
   ]
  },
  {
   "cell_type": "code",
   "execution_count": 3,
   "metadata": {},
   "outputs": [],
   "source": [
    "from random import randint"
   ]
  },
  {
   "cell_type": "code",
   "execution_count": 4,
   "metadata": {},
   "outputs": [],
   "source": [
    "def Bartender(questions, ingredients):\n",
    "    for taste in questions:\n",
    "        answer = str(raw_input(questions[taste] + \" \"))\n",
    "        if answer == 'Y' or answer == 'y':\n",
    "            random_taste = randint(0, 2)\n",
    "            print(ingredients[taste][random_taste])\n",
    "            return \n",
    "        print(\"Let's choose another taste\")"
   ]
  },
  {
   "cell_type": "code",
   "execution_count": 5,
   "metadata": {},
   "outputs": [
    {
     "name": "stdout",
     "output_type": "stream",
     "text": [
      "Are ye a lubber who likes it bitter? n\n",
      "Let's choose another taste\n",
      "Do ye like yer drinks strong? y\n",
      "splash of gin\n"
     ]
    }
   ],
   "source": [
    "Bartender(questions, ingredients)"
   ]
  },
  {
   "cell_type": "code",
   "execution_count": null,
   "metadata": {},
   "outputs": [],
   "source": []
  }
 ],
 "metadata": {
  "kernelspec": {
   "display_name": "Python 3",
   "language": "python",
   "name": "python3"
  },
  "language_info": {
   "codemirror_mode": {
    "name": "ipython",
    "version": 2
   },
   "file_extension": ".py",
   "mimetype": "text/x-python",
   "name": "python",
   "nbconvert_exporter": "python",
   "pygments_lexer": "ipython2",
   "version": "2.7.17"
  }
 },
 "nbformat": 4,
 "nbformat_minor": 2
}
